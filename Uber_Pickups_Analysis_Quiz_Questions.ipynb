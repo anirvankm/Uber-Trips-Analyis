{
 "cells": [
  {
   "cell_type": "markdown",
   "metadata": {},
   "source": [
    "### Uber Pickups Analysis Quiz\n",
    "\n",
    "The question set is based on the August dataset, `uber-raw-data-aug14.csv`.\n",
    "\n",
    "#### Keeping the dataset ready before questions"
   ]
  },
  {
   "cell_type": "code",
   "execution_count": 1,
   "metadata": {},
   "outputs": [
    {
     "data": {
      "text/html": [
       "<div>\n",
       "<style scoped>\n",
       "    .dataframe tbody tr th:only-of-type {\n",
       "        vertical-align: middle;\n",
       "    }\n",
       "\n",
       "    .dataframe tbody tr th {\n",
       "        vertical-align: top;\n",
       "    }\n",
       "\n",
       "    .dataframe thead th {\n",
       "        text-align: right;\n",
       "    }\n",
       "</style>\n",
       "<table border=\"1\" class=\"dataframe\">\n",
       "  <thead>\n",
       "    <tr style=\"text-align: right;\">\n",
       "      <th></th>\n",
       "      <th>Date/Time</th>\n",
       "      <th>Lat</th>\n",
       "      <th>Lon</th>\n",
       "      <th>Base</th>\n",
       "    </tr>\n",
       "  </thead>\n",
       "  <tbody>\n",
       "    <tr>\n",
       "      <th>0</th>\n",
       "      <td>8/1/2014 0:03:00</td>\n",
       "      <td>40.7366</td>\n",
       "      <td>-73.9906</td>\n",
       "      <td>B02512</td>\n",
       "    </tr>\n",
       "    <tr>\n",
       "      <th>1</th>\n",
       "      <td>8/1/2014 0:09:00</td>\n",
       "      <td>40.7260</td>\n",
       "      <td>-73.9918</td>\n",
       "      <td>B02512</td>\n",
       "    </tr>\n",
       "    <tr>\n",
       "      <th>2</th>\n",
       "      <td>8/1/2014 0:12:00</td>\n",
       "      <td>40.7209</td>\n",
       "      <td>-74.0507</td>\n",
       "      <td>B02512</td>\n",
       "    </tr>\n",
       "    <tr>\n",
       "      <th>3</th>\n",
       "      <td>8/1/2014 0:12:00</td>\n",
       "      <td>40.7387</td>\n",
       "      <td>-73.9856</td>\n",
       "      <td>B02512</td>\n",
       "    </tr>\n",
       "    <tr>\n",
       "      <th>4</th>\n",
       "      <td>8/1/2014 0:12:00</td>\n",
       "      <td>40.7323</td>\n",
       "      <td>-74.0077</td>\n",
       "      <td>B02512</td>\n",
       "    </tr>\n",
       "  </tbody>\n",
       "</table>\n",
       "</div>"
      ],
      "text/plain": [
       "          Date/Time      Lat      Lon    Base\n",
       "0  8/1/2014 0:03:00  40.7366 -73.9906  B02512\n",
       "1  8/1/2014 0:09:00  40.7260 -73.9918  B02512\n",
       "2  8/1/2014 0:12:00  40.7209 -74.0507  B02512\n",
       "3  8/1/2014 0:12:00  40.7387 -73.9856  B02512\n",
       "4  8/1/2014 0:12:00  40.7323 -74.0077  B02512"
      ]
     },
     "execution_count": 1,
     "metadata": {},
     "output_type": "execute_result"
    }
   ],
   "source": [
    "import pandas as pd\n",
    "\n",
    "df = pd.read_csv('./data/uber-raw-data-aug14.csv')\n",
    "df.head()"
   ]
  },
  {
   "cell_type": "markdown",
   "metadata": {},
   "source": [
    "#### Q1. On what date did we see the most number of Uber pickups?\n",
    "\n",
    "**Skill Test:** Grouping & Counting"
   ]
  },
  {
   "cell_type": "code",
   "execution_count": 2,
   "metadata": {},
   "outputs": [
    {
     "name": "stdout",
     "output_type": "stream",
     "text": [
      "2014-08-07\n"
     ]
    }
   ],
   "source": [
    "# Convert the 'Date/Time' column to datetime format\n",
    "df[\"Date/Time\"]=pd.to_datetime(df[\"Date/Time\"])\n",
    "df[\"Date\"]=df[\"Date/Time\"].dt.date\n",
    "df[\"Time\"]=df[\"Date/Time\"].dt.time\n",
    "#print(df.head())\n",
    "#print(df.info())\n",
    "\n",
    "# Group by date and count the number of pickups\n",
    "grps=df.groupby(\"Date\").count()\n",
    "#print(grps)\n",
    "\n",
    "# Find the date with the highest number of pickups\n",
    "most_pickups_date=grps.sort_values(\"Base\",ascending=False).head(1).reset_index()[\"Date\"][0]\n",
    "print(most_pickups_date)\n",
    "\n"
   ]
  },
  {
   "cell_type": "markdown",
   "metadata": {},
   "source": [
    "#### Q.2 How many Uber pickups were made on the date with the highest number of pickups?\n",
    "\n",
    "**Skill Test:** Indexing and filtering"
   ]
  },
  {
   "cell_type": "code",
   "execution_count": 4,
   "metadata": {},
   "outputs": [
    {
     "name": "stdout",
     "output_type": "stream",
     "text": [
      "32759\n"
     ]
    }
   ],
   "source": [
    "# Filter the DataFrame to include only the rows for the date with the highest number of pickups\n",
    "df_most_pickups=df[df[\"Date\"]==most_pickups_date]\n",
    "\n",
    "# Get the count of pickups on the highest date\n",
    "print(df_most_pickups[\"Base\"].count())\n"
   ]
  },
  {
   "cell_type": "markdown",
   "metadata": {},
   "source": [
    "#### Q.3 How many unique TLC base companies are affiliated with the Uber pickups in the dataset?\n",
    "\n",
    "**Skill Test:** Counting unique values"
   ]
  },
  {
   "cell_type": "code",
   "execution_count": 5,
   "metadata": {},
   "outputs": [
    {
     "data": {
      "text/plain": [
       "5"
      ]
     },
     "execution_count": 5,
     "metadata": {},
     "output_type": "execute_result"
    }
   ],
   "source": [
    "# Count the number of unique TLC base companies\n",
    "\n",
    "len(df[\"Base\"].unique())\n"
   ]
  },
  {
   "cell_type": "markdown",
   "metadata": {},
   "source": [
    "#### Q.4 Which TLC base company had the highest number of pickups?\n",
    "\n",
    "**Skill Test:** Grouping, counting, and finding the maximum"
   ]
  },
  {
   "cell_type": "code",
   "execution_count": 12,
   "metadata": {},
   "outputs": [
    {
     "name": "stdout",
     "output_type": "stream",
     "text": [
      "B02617\n"
     ]
    }
   ],
   "source": [
    "# Group by TLC base company and count the number of pickups\n",
    "grp_base=df.groupby(\"Base\").count()\n",
    "\n",
    "# Find the TLC base company with the highest number of pickups\n",
    "print(grp_base.sort_values(\"Date\",ascending=False).reset_index()[\"Base\"].head(1)[0])"
   ]
  },
  {
   "cell_type": "markdown",
   "metadata": {},
   "source": [
    "#### Q.5 How many Uber pickups were made at each unique TLC base company?\n",
    "\n",
    "**Skill Test:** Grouping and counting"
   ]
  },
  {
   "cell_type": "code",
   "execution_count": 14,
   "metadata": {},
   "outputs": [
    {
     "name": "stdout",
     "output_type": "stream",
     "text": [
      "Base\n",
      "B02512     31472\n",
      "B02598    220129\n",
      "B02617    355803\n",
      "B02682    173280\n",
      "B02764     48591\n",
      "Name: Date, dtype: int64\n"
     ]
    }
   ],
   "source": [
    "# Group by TLC base company and count the number of pickups\n",
    "\n",
    "print(grp_base[\"Date\"])\n"
   ]
  },
  {
   "cell_type": "markdown",
   "metadata": {},
   "source": [
    "#### Q.6 Can you determine the busiest time of day for Uber pickups based on the date/time column?\n",
    "\n",
    "**Skill Test:** Extracting time components, grouping, counting, and finding the maximum"
   ]
  },
  {
   "cell_type": "code",
   "execution_count": 21,
   "metadata": {},
   "outputs": [
    {
     "name": "stdout",
     "output_type": "stream",
     "text": [
      "17\n"
     ]
    }
   ],
   "source": [
    "# Extract the hour from the 'Date/Time' column\n",
    "df[\"Hour\"]=df[\"Date/Time\"].dt.hour\n",
    "#print(df[\"Hour\"])\n",
    "\n",
    "# Group by hour and count the number of pickups\n",
    "grp_hour=df.groupby(\"Hour\").count()\n",
    "#print(grp_hour)\n",
    "\n",
    "# Find the hour with the highest number of pickups\n",
    "print(grp_hour.sort_values(\"Base\",ascending=False).reset_index().head(1)[\"Hour\"][0])\n"
   ]
  },
  {
   "cell_type": "markdown",
   "metadata": {},
   "source": [
    "#### Q.7 Can you create a visualization (e.g., a bar chart or line plot) to represent the number of Uber pickups over time?\n",
    "\n",
    "**Skill Test:** Data Visualization using Plotting function "
   ]
  },
  {
   "cell_type": "code",
   "execution_count": 23,
   "metadata": {},
   "outputs": [
    {
     "data": {
      "image/png": "[encoded data removed]",
      "text/plain": [
       "<Figure size 432x288 with 1 Axes>"
      ]
     },
     "metadata": {
      "needs_background": "light"
     },
     "output_type": "display_data"
    }
   ],
   "source": [
    "import matplotlib.pyplot as plt\n",
    "\n",
    "# Group by date and count the number of pickups\n",
    "grp_date=df.groupby(\"Date\").count()[\"Base\"]\n",
    "#print(grp_date)\n",
    "\n",
    "# Create a line plot to visualize the number of pickups over time\n",
    "plt.plot(grp_date)\n",
    "plt.show()"
   ]
  },
  {
   "cell_type": "markdown",
   "metadata": {},
   "source": [
    "#### Q8. Can you create a scatter plot to visualize the distribution of Uber pickups based on latitude and longitude?\n",
    "\n",
    "**Skill Test:** Scatter Plot"
   ]
  },
  {
   "cell_type": "code",
   "execution_count": 33,
   "metadata": {},
   "outputs": [
    {
     "data": {
      "image/png": "[encoded data removed]",
      "text/plain": [
       "<Figure size 432x288 with 1 Axes>"
      ]
     },
     "metadata": {
      "needs_background": "light"
     },
     "output_type": "display_data"
    }
   ],
   "source": [
    "# Create a scatter plot to visualize the distribution of Uber pickups based on latitude and longitude\n",
    "x=df[\"Lat\"]\n",
    "y=df[\"Lon\"]\n",
    "\n",
    "plt.scatter(x,y,s=1)\n",
    "plt.show()"
   ]
  },
  {
   "cell_type": "markdown",
   "metadata": {},
   "source": [
    "#### Q9. Can you create a bar chart to compare the number of Uber pickups for each TLC base company?\n",
    "\n",
    "**Skill Test:** Bar Chart"
   ]
  },
  {
   "cell_type": "code",
   "execution_count": 35,
   "metadata": {},
   "outputs": [
    {
     "data": {
      "image/png": "[encoded data removed]",
      "text/plain": [
       "<Figure size 432x288 with 1 Axes>"
      ]
     },
     "metadata": {
      "needs_background": "light"
     },
     "output_type": "display_data"
    }
   ],
   "source": [
    "# Create a bar chart to compare the number of Uber pickups for each TLC base company\n",
    "y=grp_base[\"Date\"]\n",
    "x=grp_base.index\n",
    "\n",
    "plt.bar(x,y)\n",
    "plt.show()"
   ]
  },
  {
   "cell_type": "markdown",
   "metadata": {},
   "source": [
    "#### Q10. Can you create a pie chart to display the percentage distribution of Uber pickups for each day of the week?\n",
    "\n",
    "**Skill Test:** Pie Chart"
   ]
  },
  {
   "cell_type": "code",
   "execution_count": 44,
   "metadata": {},
   "outputs": [
    {
     "name": "stdout",
     "output_type": "stream",
     "text": [
      "            Date/Time      Lat      Lon    Base        Date      Time  Hour  \\\n",
      "0 2014-08-01 00:03:00  40.7366 -73.9906  B02512  2014-08-01  00:03:00     0   \n",
      "1 2014-08-01 00:09:00  40.7260 -73.9918  B02512  2014-08-01  00:09:00     0   \n",
      "2 2014-08-01 00:12:00  40.7209 -74.0507  B02512  2014-08-01  00:12:00     0   \n",
      "3 2014-08-01 00:12:00  40.7387 -73.9856  B02512  2014-08-01  00:12:00     0   \n",
      "4 2014-08-01 00:12:00  40.7323 -74.0077  B02512  2014-08-01  00:12:00     0   \n",
      "\n",
      "      Day  \n",
      "0  Friday  \n",
      "1  Friday  \n",
      "2  Friday  \n",
      "3  Friday  \n",
      "4  Friday  \n"
     ]
    },
    {
     "data": {
      "image/png": "[encoded data removed]",
      "text/plain": [
       "<Figure size 432x288 with 1 Axes>"
      ]
     },
     "metadata": {},
     "output_type": "display_data"
    }
   ],
   "source": [
    "# Group by day of the week and count the number of pickups\n",
    "df[\"Day\"]=df[\"Date/Time\"].dt.dayofweek\n",
    "dict1={0:\"Monday\",1:\"Tuesday\",2:\"Wednesday\",3:\"Thursday\",4:\"Friday\",5:\"Saturday\",6:\"Sunday\"}\n",
    "df[\"Day\"]=df[\"Day\"].map(dict1)\n",
    "print(df.head())\n",
    "# Create a pie chart to display the percentage distribution of Uber pickups for each day of the week\n",
    "grp_day=df.groupby(\"Day\").count()\n",
    "plt.pie(grp_day[\"Base\"],labels=grp_day.index)\n",
    "plt.show()"
   ]
  }
 ],
 "metadata": {
  "kernelspec": {
   "display_name": "Python 3",
   "language": "python",
   "name": "python3"
  },
  "language_info": {
   "codemirror_mode": {
    "name": "ipython",
    "version": 3
   },
   "file_extension": ".py",
   "mimetype": "text/x-python",
   "name": "python",
   "nbconvert_exporter": "python",
   "pygments_lexer": "ipython3",
   "version": "3.8.5"
  }
 },
 "nbformat": 4,
 "nbformat_minor": 5
}
